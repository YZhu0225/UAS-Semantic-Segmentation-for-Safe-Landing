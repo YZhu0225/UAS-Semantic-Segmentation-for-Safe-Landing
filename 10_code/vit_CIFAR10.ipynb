{
 "cells": [
  {
   "cell_type": "code",
   "execution_count": 1,
   "id": "d6c91a8a",
   "metadata": {
    "_cell_guid": "b1076dfc-b9ad-4769-8c92-a6c4dae69d19",
    "_uuid": "8f2839f25d086af736a60e9eeb907d3b93b6e0e5",
    "execution": {
     "iopub.execute_input": "2023-04-12T05:16:22.327262Z",
     "iopub.status.busy": "2023-04-12T05:16:22.326815Z",
     "iopub.status.idle": "2023-04-12T05:16:22.339284Z",
     "shell.execute_reply": "2023-04-12T05:16:22.338390Z"
    },
    "papermill": {
     "duration": 0.019141,
     "end_time": "2023-04-12T05:16:22.341425",
     "exception": false,
     "start_time": "2023-04-12T05:16:22.322284",
     "status": "completed"
    },
    "tags": []
   },
   "outputs": [],
   "source": [
    "# This Python 3 environment comes with many helpful analytics libraries installed\n",
    "# It is defined by the kaggle/python Docker image: https://github.com/kaggle/docker-python\n",
    "# For example, here's several helpful packages to load\n",
    "\n",
    "import numpy as np # linear algebra\n",
    "import pandas as pd # data processing, CSV file I/O (e.g. pd.read_csv)\n",
    "\n",
    "# Input data files are available in the read-only \"../input/\" directory\n",
    "# For example, running this (by clicking run or pressing Shift+Enter) will list all files under the input directory\n",
    "\n",
    "import os\n",
    "for dirname, _, filenames in os.walk('/kaggle/input'):\n",
    "    for filename in filenames:\n",
    "        print(os.path.join(dirname, filename))\n",
    "\n",
    "# You can write up to 20GB to the current directory (/kaggle/working/) that gets preserved as output when you create a version using \"Save & Run All\" \n",
    "# You can also write temporary files to /kaggle/temp/, but they won't be saved outside of the current session"
   ]
  },
  {
   "cell_type": "code",
   "execution_count": 2,
   "id": "1b11dcda",
   "metadata": {
    "execution": {
     "iopub.execute_input": "2023-04-12T05:16:22.347288Z",
     "iopub.status.busy": "2023-04-12T05:16:22.346457Z",
     "iopub.status.idle": "2023-04-12T05:16:33.454854Z",
     "shell.execute_reply": "2023-04-12T05:16:33.453378Z"
    },
    "papermill": {
     "duration": 11.113964,
     "end_time": "2023-04-12T05:16:33.457568",
     "exception": false,
     "start_time": "2023-04-12T05:16:22.343604",
     "status": "completed"
    },
    "tags": []
   },
   "outputs": [
    {
     "name": "stdout",
     "output_type": "stream",
     "text": [
      "Collecting vit_pytorch\r\n"
     ]
    },
    {
     "name": "stdout",
     "output_type": "stream",
     "text": [
      "  Downloading vit_pytorch-1.2.0-py3-none-any.whl (87 kB)\r\n",
      "\u001b[?25l     \u001b[90m━━━━━━━━━━━━━━━━━━━━━━━━━━━━━━━━━━━━━━━━\u001b[0m \u001b[32m0.0/87.2 kB\u001b[0m \u001b[31m?\u001b[0m eta \u001b[36m-:--:--\u001b[0m\r\n",
      "\u001b[2K     \u001b[90m━━━━━━━━━━━━━━━━━━━━━━━━━━━━━━━━━━━━━━━━\u001b[0m \u001b[32m87.2/87.2 kB\u001b[0m \u001b[31m3.7 MB/s\u001b[0m eta \u001b[36m0:00:00\u001b[0m\r\n",
      "\u001b[?25hRequirement already satisfied: torchvision in /opt/conda/lib/python3.7/site-packages (from vit_pytorch) (0.14.0)\r\n"
     ]
    },
    {
     "name": "stdout",
     "output_type": "stream",
     "text": [
      "Collecting einops>=0.6.0\r\n",
      "  Downloading einops-0.6.0-py3-none-any.whl (41 kB)\r\n",
      "\u001b[?25l     \u001b[90m━━━━━━━━━━━━━━━━━━━━━━━━━━━━━━━━━━━━━━━━\u001b[0m \u001b[32m0.0/41.6 kB\u001b[0m \u001b[31m?\u001b[0m eta \u001b[36m-:--:--\u001b[0m\r\n",
      "\u001b[2K     \u001b[90m━━━━━━━━━━━━━━━━━━━━━━━━━━━━━━━━━━━━━━━━\u001b[0m \u001b[32m41.6/41.6 kB\u001b[0m \u001b[31m4.3 MB/s\u001b[0m eta \u001b[36m0:00:00\u001b[0m\r\n",
      "\u001b[?25hRequirement already satisfied: torch>=1.10 in /opt/conda/lib/python3.7/site-packages (from vit_pytorch) (1.13.0)\r\n"
     ]
    },
    {
     "name": "stdout",
     "output_type": "stream",
     "text": [
      "Requirement already satisfied: typing-extensions in /opt/conda/lib/python3.7/site-packages (from torch>=1.10->vit_pytorch) (4.4.0)\r\n",
      "Requirement already satisfied: requests in /opt/conda/lib/python3.7/site-packages (from torchvision->vit_pytorch) (2.28.2)\r\n",
      "Requirement already satisfied: pillow!=8.3.*,>=5.3.0 in /opt/conda/lib/python3.7/site-packages (from torchvision->vit_pytorch) (9.4.0)\r\n",
      "Requirement already satisfied: numpy in /opt/conda/lib/python3.7/site-packages (from torchvision->vit_pytorch) (1.21.6)\r\n",
      "Requirement already satisfied: idna<4,>=2.5 in /opt/conda/lib/python3.7/site-packages (from requests->torchvision->vit_pytorch) (3.4)\r\n",
      "Requirement already satisfied: urllib3<1.27,>=1.21.1 in /opt/conda/lib/python3.7/site-packages (from requests->torchvision->vit_pytorch) (1.26.14)\r\n",
      "Requirement already satisfied: charset-normalizer<4,>=2 in /opt/conda/lib/python3.7/site-packages (from requests->torchvision->vit_pytorch) (2.1.1)\r\n",
      "Requirement already satisfied: certifi>=2017.4.17 in /opt/conda/lib/python3.7/site-packages (from requests->torchvision->vit_pytorch) (2022.12.7)\r\n"
     ]
    },
    {
     "name": "stdout",
     "output_type": "stream",
     "text": [
      "Installing collected packages: einops, vit_pytorch\r\n"
     ]
    },
    {
     "name": "stdout",
     "output_type": "stream",
     "text": [
      "Successfully installed einops-0.6.0 vit_pytorch-1.2.0\r\n",
      "\u001b[33mWARNING: Running pip as the 'root' user can result in broken permissions and conflicting behaviour with the system package manager. It is recommended to use a virtual environment instead: https://pip.pypa.io/warnings/venv\u001b[0m\u001b[33m\r\n",
      "\u001b[0m"
     ]
    }
   ],
   "source": [
    "!pip install vit_pytorch"
   ]
  },
  {
   "cell_type": "code",
   "execution_count": 4,
   "id": "8ffb0fd2",
   "metadata": {
    "execution": {
     "iopub.execute_input": "2023-04-12T05:16:33.483885Z",
     "iopub.status.busy": "2023-04-12T05:16:33.483574Z"
    },
    "papermill": {
     "duration": null,
     "end_time": null,
     "exception": false,
     "start_time": "2023-04-12T05:16:33.480253",
     "status": "running"
    },
    "tags": []
   },
   "outputs": [
    {
     "name": "stdout",
     "output_type": "stream",
     "text": [
      "Downloading https://www.cs.toronto.edu/~kriz/cifar-10-python.tar.gz to ./data/cifar-10-python.tar.gz\n"
     ]
    },
    {
     "data": {
      "application/vnd.jupyter.widget-view+json": {
       "model_id": "f60f631efa134b1fbf6469ad90c48888",
       "version_major": 2,
       "version_minor": 0
      },
      "text/plain": [
       "  0%|          | 0/170498071 [00:00<?, ?it/s]"
      ]
     },
     "metadata": {},
     "output_type": "display_data"
    },
    {
     "name": "stdout",
     "output_type": "stream",
     "text": [
      "Extracting ./data/cifar-10-python.tar.gz to ./data\n"
     ]
    },
    {
     "name": "stdout",
     "output_type": "stream",
     "text": [
      "Files already downloaded and verified\n"
     ]
    },
    {
     "name": "stdout",
     "output_type": "stream",
     "text": [
      "Epoch [1/200], Train Loss: 1.9365, Train Acc: 0.2649, Test Loss: 1.6988, Test Acc: 0.3578\n"
     ]
    },
    {
     "name": "stdout",
     "output_type": "stream",
     "text": [
      "Epoch [2/200], Train Loss: 1.6570, Train Acc: 0.3889, Test Loss: 1.4528, Test Acc: 0.4726\n"
     ]
    },
    {
     "name": "stdout",
     "output_type": "stream",
     "text": [
      "Epoch [3/200], Train Loss: 1.4921, Train Acc: 0.4515, Test Loss: 1.3813, Test Acc: 0.4967\n"
     ]
    },
    {
     "name": "stdout",
     "output_type": "stream",
     "text": [
      "Epoch [4/200], Train Loss: 1.4101, Train Acc: 0.4834, Test Loss: 1.3017, Test Acc: 0.5202\n"
     ]
    },
    {
     "name": "stdout",
     "output_type": "stream",
     "text": [
      "Epoch [5/200], Train Loss: 1.3583, Train Acc: 0.5089, Test Loss: 1.2349, Test Acc: 0.5513\n"
     ]
    },
    {
     "name": "stdout",
     "output_type": "stream",
     "text": [
      "Epoch [6/200], Train Loss: 1.3234, Train Acc: 0.5193, Test Loss: 1.1650, Test Acc: 0.5740\n"
     ]
    },
    {
     "name": "stdout",
     "output_type": "stream",
     "text": [
      "Epoch [7/200], Train Loss: 1.2857, Train Acc: 0.5362, Test Loss: 1.1764, Test Acc: 0.5738\n"
     ]
    },
    {
     "name": "stdout",
     "output_type": "stream",
     "text": [
      "Epoch [8/200], Train Loss: 1.2638, Train Acc: 0.5427, Test Loss: 1.1803, Test Acc: 0.5677\n"
     ]
    },
    {
     "name": "stdout",
     "output_type": "stream",
     "text": [
      "Epoch [9/200], Train Loss: 1.2356, Train Acc: 0.5547, Test Loss: 1.1352, Test Acc: 0.5891\n"
     ]
    },
    {
     "name": "stdout",
     "output_type": "stream",
     "text": [
      "Epoch [10/200], Train Loss: 1.2100, Train Acc: 0.5655, Test Loss: 1.1417, Test Acc: 0.5997\n"
     ]
    },
    {
     "name": "stdout",
     "output_type": "stream",
     "text": [
      "Epoch [11/200], Train Loss: 1.1862, Train Acc: 0.5709, Test Loss: 1.0885, Test Acc: 0.6172\n"
     ]
    },
    {
     "name": "stdout",
     "output_type": "stream",
     "text": [
      "Epoch [12/200], Train Loss: 1.1686, Train Acc: 0.5810, Test Loss: 1.0393, Test Acc: 0.6299\n"
     ]
    },
    {
     "name": "stdout",
     "output_type": "stream",
     "text": [
      "Epoch [13/200], Train Loss: 1.1481, Train Acc: 0.5881, Test Loss: 1.0676, Test Acc: 0.6185\n"
     ]
    },
    {
     "name": "stdout",
     "output_type": "stream",
     "text": [
      "Epoch [14/200], Train Loss: 1.1273, Train Acc: 0.5929, Test Loss: 1.0390, Test Acc: 0.6280\n"
     ]
    },
    {
     "name": "stdout",
     "output_type": "stream",
     "text": [
      "Epoch [15/200], Train Loss: 1.1217, Train Acc: 0.5991, Test Loss: 1.0001, Test Acc: 0.6415\n"
     ]
    },
    {
     "name": "stdout",
     "output_type": "stream",
     "text": [
      "Epoch [16/200], Train Loss: 1.0874, Train Acc: 0.6100, Test Loss: 1.0654, Test Acc: 0.6290\n"
     ]
    },
    {
     "name": "stdout",
     "output_type": "stream",
     "text": [
      "Epoch [17/200], Train Loss: 1.0824, Train Acc: 0.6113, Test Loss: 1.0079, Test Acc: 0.6439\n"
     ]
    },
    {
     "name": "stdout",
     "output_type": "stream",
     "text": [
      "Epoch [18/200], Train Loss: 1.0603, Train Acc: 0.6204, Test Loss: 1.0175, Test Acc: 0.6368\n"
     ]
    },
    {
     "name": "stdout",
     "output_type": "stream",
     "text": [
      "Epoch [19/200], Train Loss: 1.0481, Train Acc: 0.6253, Test Loss: 0.9902, Test Acc: 0.6516\n"
     ]
    },
    {
     "name": "stdout",
     "output_type": "stream",
     "text": [
      "Epoch [20/200], Train Loss: 1.0367, Train Acc: 0.6296, Test Loss: 0.9225, Test Acc: 0.6772\n"
     ]
    },
    {
     "name": "stdout",
     "output_type": "stream",
     "text": [
      "Epoch [21/200], Train Loss: 1.0230, Train Acc: 0.6353, Test Loss: 0.9456, Test Acc: 0.6686\n"
     ]
    },
    {
     "name": "stdout",
     "output_type": "stream",
     "text": [
      "Epoch [22/200], Train Loss: 1.0097, Train Acc: 0.6390, Test Loss: 0.9050, Test Acc: 0.6837\n"
     ]
    },
    {
     "name": "stdout",
     "output_type": "stream",
     "text": [
      "Epoch [23/200], Train Loss: 1.0014, Train Acc: 0.6430, Test Loss: 0.8828, Test Acc: 0.6869\n"
     ]
    },
    {
     "name": "stdout",
     "output_type": "stream",
     "text": [
      "Epoch [24/200], Train Loss: 0.9871, Train Acc: 0.6455, Test Loss: 0.9269, Test Acc: 0.6748\n"
     ]
    },
    {
     "name": "stdout",
     "output_type": "stream",
     "text": [
      "Epoch [25/200], Train Loss: 0.9762, Train Acc: 0.6529, Test Loss: 0.8863, Test Acc: 0.6923\n"
     ]
    },
    {
     "name": "stdout",
     "output_type": "stream",
     "text": [
      "Epoch [26/200], Train Loss: 0.9610, Train Acc: 0.6573, Test Loss: 0.9052, Test Acc: 0.6802\n"
     ]
    },
    {
     "name": "stdout",
     "output_type": "stream",
     "text": [
      "Epoch [27/200], Train Loss: 0.9579, Train Acc: 0.6599, Test Loss: 0.8357, Test Acc: 0.7070\n"
     ]
    },
    {
     "name": "stdout",
     "output_type": "stream",
     "text": [
      "Epoch [28/200], Train Loss: 0.9405, Train Acc: 0.6638, Test Loss: 0.8667, Test Acc: 0.6891\n"
     ]
    },
    {
     "name": "stdout",
     "output_type": "stream",
     "text": [
      "Epoch [29/200], Train Loss: 0.9359, Train Acc: 0.6673, Test Loss: 0.8651, Test Acc: 0.7026\n"
     ]
    },
    {
     "name": "stdout",
     "output_type": "stream",
     "text": [
      "Epoch [30/200], Train Loss: 0.9238, Train Acc: 0.6731, Test Loss: 0.8983, Test Acc: 0.6904\n"
     ]
    },
    {
     "name": "stdout",
     "output_type": "stream",
     "text": [
      "Epoch [31/200], Train Loss: 0.9235, Train Acc: 0.6728, Test Loss: 0.8245, Test Acc: 0.7064\n"
     ]
    },
    {
     "name": "stdout",
     "output_type": "stream",
     "text": [
      "Epoch [32/200], Train Loss: 0.9149, Train Acc: 0.6760, Test Loss: 0.8222, Test Acc: 0.7084\n"
     ]
    },
    {
     "name": "stdout",
     "output_type": "stream",
     "text": [
      "Epoch [33/200], Train Loss: 0.9051, Train Acc: 0.6769, Test Loss: 0.8842, Test Acc: 0.6951\n"
     ]
    },
    {
     "name": "stdout",
     "output_type": "stream",
     "text": [
      "Epoch [34/200], Train Loss: 0.9034, Train Acc: 0.6820, Test Loss: 0.7913, Test Acc: 0.7265\n"
     ]
    },
    {
     "name": "stdout",
     "output_type": "stream",
     "text": [
      "Epoch [35/200], Train Loss: 0.8828, Train Acc: 0.6880, Test Loss: 0.8260, Test Acc: 0.7138\n"
     ]
    },
    {
     "name": "stdout",
     "output_type": "stream",
     "text": [
      "Epoch [36/200], Train Loss: 0.8784, Train Acc: 0.6901, Test Loss: 0.7934, Test Acc: 0.7202\n"
     ]
    },
    {
     "name": "stdout",
     "output_type": "stream",
     "text": [
      "Epoch [37/200], Train Loss: 0.8777, Train Acc: 0.6882, Test Loss: 0.8119, Test Acc: 0.7206\n"
     ]
    },
    {
     "name": "stdout",
     "output_type": "stream",
     "text": [
      "Epoch [38/200], Train Loss: 0.8640, Train Acc: 0.6962, Test Loss: 0.7948, Test Acc: 0.7233\n"
     ]
    },
    {
     "name": "stdout",
     "output_type": "stream",
     "text": [
      "Epoch [39/200], Train Loss: 0.8659, Train Acc: 0.6928, Test Loss: 0.8511, Test Acc: 0.7103\n"
     ]
    },
    {
     "name": "stdout",
     "output_type": "stream",
     "text": [
      "Epoch [40/200], Train Loss: 0.8633, Train Acc: 0.6946, Test Loss: 0.7991, Test Acc: 0.7198\n"
     ]
    },
    {
     "name": "stdout",
     "output_type": "stream",
     "text": [
      "Epoch [41/200], Train Loss: 0.8466, Train Acc: 0.7018, Test Loss: 0.8714, Test Acc: 0.7020\n"
     ]
    },
    {
     "name": "stdout",
     "output_type": "stream",
     "text": [
      "Epoch [42/200], Train Loss: 0.8510, Train Acc: 0.6978, Test Loss: 0.8221, Test Acc: 0.7221\n"
     ]
    },
    {
     "name": "stdout",
     "output_type": "stream",
     "text": [
      "Epoch [43/200], Train Loss: 0.8373, Train Acc: 0.7039, Test Loss: 0.7581, Test Acc: 0.7323\n"
     ]
    },
    {
     "name": "stdout",
     "output_type": "stream",
     "text": [
      "Epoch [44/200], Train Loss: 0.8401, Train Acc: 0.7050, Test Loss: 0.7612, Test Acc: 0.7334\n"
     ]
    },
    {
     "name": "stdout",
     "output_type": "stream",
     "text": [
      "Epoch [45/200], Train Loss: 0.8392, Train Acc: 0.7033, Test Loss: 0.7890, Test Acc: 0.7267\n"
     ]
    },
    {
     "name": "stdout",
     "output_type": "stream",
     "text": [
      "Epoch [46/200], Train Loss: 0.8306, Train Acc: 0.7056, Test Loss: 0.7535, Test Acc: 0.7343\n"
     ]
    },
    {
     "name": "stdout",
     "output_type": "stream",
     "text": [
      "Epoch [47/200], Train Loss: 0.8292, Train Acc: 0.7095, Test Loss: 0.7808, Test Acc: 0.7305\n"
     ]
    },
    {
     "name": "stdout",
     "output_type": "stream",
     "text": [
      "Epoch [48/200], Train Loss: 0.8232, Train Acc: 0.7086, Test Loss: 0.8103, Test Acc: 0.7185\n"
     ]
    },
    {
     "name": "stdout",
     "output_type": "stream",
     "text": [
      "Epoch [49/200], Train Loss: 0.8128, Train Acc: 0.7120, Test Loss: 0.7517, Test Acc: 0.7387\n"
     ]
    },
    {
     "name": "stdout",
     "output_type": "stream",
     "text": [
      "Epoch [50/200], Train Loss: 0.8125, Train Acc: 0.7125, Test Loss: 0.7578, Test Acc: 0.7398\n"
     ]
    },
    {
     "name": "stdout",
     "output_type": "stream",
     "text": [
      "Epoch [51/200], Train Loss: 0.8126, Train Acc: 0.7128, Test Loss: 0.7194, Test Acc: 0.7524\n"
     ]
    },
    {
     "name": "stdout",
     "output_type": "stream",
     "text": [
      "Epoch [52/200], Train Loss: 0.8012, Train Acc: 0.7171, Test Loss: 0.7900, Test Acc: 0.7271\n"
     ]
    },
    {
     "name": "stdout",
     "output_type": "stream",
     "text": [
      "Epoch [53/200], Train Loss: 0.8059, Train Acc: 0.7143, Test Loss: 0.7709, Test Acc: 0.7311\n"
     ]
    },
    {
     "name": "stdout",
     "output_type": "stream",
     "text": [
      "Epoch [54/200], Train Loss: 0.7939, Train Acc: 0.7176, Test Loss: 0.7536, Test Acc: 0.7321\n"
     ]
    },
    {
     "name": "stdout",
     "output_type": "stream",
     "text": [
      "Epoch [55/200], Train Loss: 0.7982, Train Acc: 0.7186, Test Loss: 0.7441, Test Acc: 0.7416\n"
     ]
    },
    {
     "name": "stdout",
     "output_type": "stream",
     "text": [
      "Epoch [56/200], Train Loss: 0.7954, Train Acc: 0.7185, Test Loss: 0.7965, Test Acc: 0.7246\n"
     ]
    },
    {
     "name": "stdout",
     "output_type": "stream",
     "text": [
      "Epoch [57/200], Train Loss: 0.7891, Train Acc: 0.7215, Test Loss: 0.7537, Test Acc: 0.7433\n"
     ]
    },
    {
     "name": "stdout",
     "output_type": "stream",
     "text": [
      "Epoch [58/200], Train Loss: 0.7826, Train Acc: 0.7242, Test Loss: 0.7662, Test Acc: 0.7373\n"
     ]
    },
    {
     "name": "stdout",
     "output_type": "stream",
     "text": [
      "Epoch [59/200], Train Loss: 0.7887, Train Acc: 0.7183, Test Loss: 0.7349, Test Acc: 0.7466\n"
     ]
    },
    {
     "name": "stdout",
     "output_type": "stream",
     "text": [
      "Epoch [60/200], Train Loss: 0.7852, Train Acc: 0.7215, Test Loss: 0.7352, Test Acc: 0.7458\n"
     ]
    },
    {
     "name": "stdout",
     "output_type": "stream",
     "text": [
      "Epoch [61/200], Train Loss: 0.7830, Train Acc: 0.7222, Test Loss: 0.6904, Test Acc: 0.7585\n"
     ]
    },
    {
     "name": "stdout",
     "output_type": "stream",
     "text": [
      "Epoch [62/200], Train Loss: 0.7793, Train Acc: 0.7252, Test Loss: 0.7856, Test Acc: 0.7374\n"
     ]
    },
    {
     "name": "stdout",
     "output_type": "stream",
     "text": [
      "Epoch [63/200], Train Loss: 0.7769, Train Acc: 0.7244, Test Loss: 0.7127, Test Acc: 0.7569\n"
     ]
    },
    {
     "name": "stdout",
     "output_type": "stream",
     "text": [
      "Epoch [64/200], Train Loss: 0.7694, Train Acc: 0.7293, Test Loss: 0.7640, Test Acc: 0.7361\n"
     ]
    },
    {
     "name": "stdout",
     "output_type": "stream",
     "text": [
      "Epoch [65/200], Train Loss: 0.7696, Train Acc: 0.7272, Test Loss: 0.6917, Test Acc: 0.7628\n"
     ]
    },
    {
     "name": "stdout",
     "output_type": "stream",
     "text": [
      "Epoch [66/200], Train Loss: 0.7672, Train Acc: 0.7283, Test Loss: 0.6955, Test Acc: 0.7598\n"
     ]
    },
    {
     "name": "stdout",
     "output_type": "stream",
     "text": [
      "Epoch [67/200], Train Loss: 0.7620, Train Acc: 0.7316, Test Loss: 0.7167, Test Acc: 0.7519\n"
     ]
    },
    {
     "name": "stdout",
     "output_type": "stream",
     "text": [
      "Epoch [68/200], Train Loss: 0.7598, Train Acc: 0.7303, Test Loss: 0.7270, Test Acc: 0.7488\n"
     ]
    }
   ],
   "source": [
    "import torch\n",
    "import torch.nn as nn\n",
    "import torch.optim as optim\n",
    "import torchvision.datasets as datasets\n",
    "import torchvision.transforms as transforms\n",
    "from torch.utils.data import DataLoader\n",
    "from vit_pytorch import ViT\n",
    "\n",
    "# Set device to use\n",
    "# device = torch.device(\"cuda\" if torch.cuda.is_available() else \"cpu\")\n",
    "\n",
    "# Define data transformations\n",
    "transform_train = transforms.Compose([\n",
    "    transforms.RandomCrop(32, padding=4),\n",
    "    transforms.RandomHorizontalFlip(),\n",
    "    transforms.ToTensor(),\n",
    "    transforms.Normalize((0.5, 0.5, 0.5), (0.5, 0.5, 0.5)),\n",
    "    transforms.Resize(32)\n",
    "])\n",
    "\n",
    "transform_test = transforms.Compose([\n",
    "    transforms.ToTensor(),\n",
    "    transforms.Normalize((0.5, 0.5, 0.5), (0.5, 0.5, 0.5)),\n",
    "    transforms.Resize(32)\n",
    "])\n",
    "\n",
    "# Load CIFAR10 dataset\n",
    "trainset = datasets.CIFAR10(root='./data', train=True, download=True, transform=transform_train)\n",
    "testset = datasets.CIFAR10(root='./data', train=False, download=True, transform=transform_test)\n",
    "\n",
    "# Define data loaders\n",
    "trainloader = torch.utils.data.DataLoader(trainset, batch_size=128, shuffle=True, num_workers=2)\n",
    "testloader = torch.utils.data.DataLoader(testset, batch_size=100, shuffle=False, num_workers=2)\n",
    "\n",
    "\n",
    "# define model\n",
    "model = ViT(\n",
    "    image_size = 32,\n",
    "    patch_size = 4,\n",
    "    num_classes = 10,\n",
    "    dim = 64,\n",
    "    depth = 6,\n",
    "    heads = 8,\n",
    "    mlp_dim = 128,\n",
    "    dropout = 0.1,\n",
    "    emb_dropout = 0.1\n",
    ")\n",
    "\n",
    "# define optimizer and loss function\n",
    "optimizer = optim.SGD(model.parameters(), lr=0.1, momentum=0.9, weight_decay=1e-4)\n",
    "criterion = nn.CrossEntropyLoss()\n",
    "\n",
    "# Train the model\n",
    "num_epochs = 200\n",
    "for epoch in range(num_epochs):\n",
    "    # Train the model\n",
    "    model.train()\n",
    "    train_loss = 0\n",
    "    train_correct = 0\n",
    "    for images, labels in trainloader:\n",
    "#         images = images.to(device)\n",
    "#         labels = labels.to(device)\n",
    "\n",
    "        optimizer.zero_grad()\n",
    "\n",
    "        outputs = model(images)\n",
    "        loss = criterion(outputs, labels)\n",
    "        loss.backward()\n",
    "        optimizer.step()\n",
    "\n",
    "        train_loss += loss.item() * images.size(0)\n",
    "        train_correct += (outputs.argmax(dim=1) == labels).sum().item()\n",
    "\n",
    "    # Test the model\n",
    "    model.eval()\n",
    "    test_loss = 0\n",
    "    test_correct = 0\n",
    "    with torch.no_grad():\n",
    "        for images, labels in testloader:\n",
    "#             images = images.to(device)\n",
    "#             labels = labels.to(device)\n",
    "\n",
    "            outputs = model(images)\n",
    "            loss = criterion(outputs, labels)\n",
    "\n",
    "            test_loss += loss.item() * images.size(0)\n",
    "            test_correct += (outputs.argmax(dim=1) == labels).sum().item()\n",
    "\n",
    "    # Print results for this epoch\n",
    "    train_loss /= len(trainset)\n",
    "    train_acc = train_correct / len(trainset)\n",
    "    test_loss /= len(testset)\n",
    "    test_acc = test_correct / len(testset)\n",
    "    print(f'Epoch [{epoch+1}/{num_epochs}], Train Loss: {train_loss:.4f}, Train Acc: {train_acc:.4f}, Test Loss: {test_loss:.4f}, Test Acc: {test_acc:.4f}')\n",
    "\n",
    "# Save the trained model\n",
    "torch.save(model.state_dict(), 'VIT_cifar10.pth')\n"
   ]
  },
  {
   "cell_type": "code",
   "execution_count": null,
   "id": "f4823dde",
   "metadata": {
    "papermill": {
     "duration": null,
     "end_time": null,
     "exception": null,
     "start_time": null,
     "status": "pending"
    },
    "tags": []
   },
   "outputs": [],
   "source": []
  }
 ],
 "metadata": {
  "kernelspec": {
   "display_name": "Python 3",
   "language": "python",
   "name": "python3"
  },
  "language_info": {
   "codemirror_mode": {
    "name": "ipython",
    "version": 3
   },
   "file_extension": ".py",
   "mimetype": "text/x-python",
   "name": "python",
   "nbconvert_exporter": "python",
   "pygments_lexer": "ipython3",
   "version": "3.6.4"
  },
  "papermill": {
   "default_parameters": {},
   "duration": null,
   "end_time": null,
   "environment_variables": {},
   "exception": null,
   "input_path": "__notebook__.ipynb",
   "output_path": "__notebook__.ipynb",
   "parameters": {},
   "start_time": "2023-04-12T05:16:12.498984",
   "version": "2.4.0"
  }
 },
 "nbformat": 4,
 "nbformat_minor": 5
}
